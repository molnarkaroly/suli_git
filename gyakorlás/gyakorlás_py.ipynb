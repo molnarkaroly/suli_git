{
  "cells": [
    {
      "cell_type": "code",
      "execution_count": null,
      "metadata": {
        "colab": {
          "base_uri": "https://localhost:8080/"
        },
        "id": "AGL6-AGkjfhA",
        "outputId": "8756e9bf-ba4d-45d5-844b-8511e0223117"
      },
      "outputs": [
        {
          "name": "stdout",
          "output_type": "stream",
          "text": [
            "3.2 Feladat | Épületek száma: 136\n",
            "3.3 Feladat | Emeletek összege: 5964\n",
            "3.4 Feladat | A legmagasabb épület adatai:\n",
            "\tNév: Federation Tower: East Tower\n",
            "\tVáros: Moszkva\n",
            "\tOrszág: Oroszország\n",
            "\tMagasság: 373.7 m\n",
            "\tEmeletek Száma: 95\n",
            "\tÉpítés éve: 2016\n",
            "3.5 Feladat | Van olasz épület az adatok között!\n"
          ]
        }
      ],
      "source": [
        "class Epulet:\n",
        "  def __init__(self, sor):\n",
        "    nev, varos, orszag, magassag, emelet, epult = sor.split(\";\")\n",
        "    self.nev = nev\n",
        "    self.varos = varos\n",
        "    self.orszag = orszag\n",
        "    self.magassag = float(magassag.replace(\",\",\".\"))\n",
        "    self.emelet = int(emelet)\n",
        "    self.epult = int(epult)\n",
        "\n",
        "epuletek= []\n",
        "with open(\"/workspaces/suli/gyakorlás/legmagasabb.txt\", \"r\", encoding=\"utf-8\") as f:\n",
        "  for sor in f.read().splitlines()[1:]:\n",
        "    epuletek.append(Epulet(sor))\n",
        "\n",
        "#for e in epuletek:\n",
        "  #print(e.epult)\n",
        "\n",
        "print(f\"3.2 Feladat | Épületek száma: {len(epuletek)}\")\n",
        "\n",
        "szum = 0\n",
        "for e in epuletek:\n",
        "    szum += e.emelet\n",
        "print(f\"3.3 Feladat | Emeletek összege: {szum}\")\n",
        "\n",
        "legmagasabb = epuletek[0]\n",
        "for e in epuletek:\n",
        "    if e.magassag > legmagasabb.magassag:\n",
        "        legmagasabb = e\n",
        "print(f\"3.4 Feladat | A legmagasabb épület adatai:\")\n",
        "print(f\"\\tNév: {legmagasabb.nev}\")\n",
        "print(f\"\\tVáros: {legmagasabb.varos}\")\n",
        "print(f\"\\tOrszág: {legmagasabb.orszag}\")\n",
        "print(f\"\\tMagasság: {legmagasabb.magassag} m\")\n",
        "print(f\"\\tEmeletek Száma: {legmagasabb.emelet}\")\n",
        "print(f\"\\tÉpítés éve: {legmagasabb.epult}\")\n",
        "\n",
        "\"\"\"\n",
        "legmagasabb = max(epuletek, key = lambda x : x.magassag)\n",
        "print(f\"3.4 Feladat | A legmagasabb épület adatai:\")\n",
        "print(f\"\\tNév: {legmagasabb.nev}\")\n",
        "print(f\"\\tVáros: {legmagasabb.varos}\")\n",
        "print(f\"\\tOrszág: {legmagasabb.orszag}\")\n",
        "print(f\"\\tMagasság: {legmagasabb.magassag} m\")\n",
        "print(f\"\\tEmeletek Száma: {legmagasabb.emelet}\")\n",
        "print(f\"\\tÉpítés éve: {legmagasabb.epult}\")\n",
        "\"\"\"\n",
        "\n",
        "van = False\n",
        "for e in epuletek:\n",
        "    if e.orszag == \"Olaszország\":\n",
        "        van = True\n",
        "        break\n",
        "print(f\"3.5 Feladat | {'Van' if  van else 'Nincs'} olasz épület az adatok között!\")\n"
      ]
    },
    {
      "cell_type": "code",
      "execution_count": null,
      "metadata": {
        "colab": {
          "base_uri": "https://localhost:8080/"
        },
        "id": "fVMsPCvpkTh6",
        "outputId": "b78c1806-ead4-483e-8283-c56314d1e538"
      },
      "outputs": [
        {
          "name": "stdout",
          "output_type": "stream",
          "text": [
            "1, az összes emelet\n",
            "az összes emelet5964\n",
            "\n",
            " Az összes épület összesen 136\n",
            "A legkissebb épület Centrum LIM ami 140.0m\n",
            "A legnagyobb épület Federation Tower: East Tower ami 373.7m\n",
            "A kettö között 233m\n",
            "Város neve: Olaszország\n",
            "Van Olaszország a listában\n"
          ]
        }
      ],
      "source": [
        "class Epulet:\n",
        "  def __init__(self,sor):\n",
        "      nev,varos,orszag,magassag,emelet,epult = sor.split(\";\")\n",
        "      self.nev = nev\n",
        "      self.varos = varos\n",
        "      self.orszag = orszag\n",
        "      self.magassag = float(magassag.replace(\",\",\".\"))\n",
        "      self.emelet = int(emelet)\n",
        "      self.epult = int(epult)\n",
        "\n",
        "epuletek =[]\n",
        "with open(\"/workspaces/suli/gyakorlás/legmagasabb.txt\", \"r\", encoding=\"utf-8\") as f:\n",
        "  for sor in f.read().splitlines()[1:]:\n",
        "    epuletek.append(Epulet(sor))\n",
        "\n",
        "print(\"1, az összes emelet\")\n",
        "szum = 0\n",
        "for e in epuletek:\n",
        "  szum += e.emelet\n",
        "  \n",
        "print(f'az összes emelet{szum}')\n",
        "szum = 0\n",
        "print(f'\\n Az összes épület összesen {len(epuletek)}')\n",
        "\n",
        "lkis = epuletek[0]\n",
        "lna = epuletek[0]\n",
        "\n",
        "for e in epuletek:\n",
        "  if e.magassag < lkis.magassag:\n",
        "    lkis = e\n",
        "\n",
        "for e in epuletek:\n",
        "  if e.magassag > lna.magassag:\n",
        "    lna = e\n",
        "\n",
        "print(f'A legkissebb épület {lkis.nev} ami {lkis.magassag}m')\n",
        "print(f'A legnagyobb épület {lna.nev} ami {lna.magassag}m')\n",
        "print(f'A kettö között {int(lna.magassag - int(lkis.magassag))}m')\n",
        "\n",
        "van = False\n",
        "varnev = input(\"Város neve: \")\n",
        "for e in epuletek:\n",
        "  if e.orszag == varnev:\n",
        "    van = True\n",
        "    break\n",
        "print(\"Van\" if van else \"Nincs\", varnev, \"a listában\")"
      ]
    },
    {
      "cell_type": "code",
      "execution_count": 3,
      "metadata": {
        "colab": {
          "base_uri": "https://localhost:8080/"
        },
        "id": "UAFtlWImzLGp",
        "outputId": "3a28f194-d3eb-41cb-ed59-41d32780205f"
      },
      "outputs": [
        {
          "name": "stdout",
          "output_type": "stream",
          "text": [
            " a legtöbb személy aki közlekedett az 24 db embr\n",
            "átlagosan: 11 ember haladt át\n",
            "összesen 22-szer ment el 10-nél több ember\n",
            "4 órakor 39 személy ment el\n"
          ]
        },
        {
          "data": {
            "text/plain": [
              "'\\nlgt = 0\\nfor e in mozgasok:\\n  if mikor == e.ora:\\n    if e.szem > lgt:\\n'"
            ]
          },
          "execution_count": 3,
          "metadata": {},
          "output_type": "execute_result"
        }
      ],
      "source": [
        "class beki:\n",
        "  def __init__(self, sor):\n",
        "    if sor:  # csak nem-üres sorokat dolgozunk fel\n",
        "        ora, perc, szem = sor.split(\";\")\n",
        "        self.ora = int(ora)\n",
        "        self.perc = int(perc)\n",
        "        self.szem = int(szem)\n",
        "\n",
        "mozgasok = []\n",
        "with open('/workspaces/suli/gyakorlás/adatok.txt', 'r', encoding=\"utf-8\") as f:\n",
        "    for sor in f.read().splitlines()[1:]:\n",
        "      mozgasok.append(beki(sor))\n",
        "\n",
        "lgtszem = mozgasok[0].szem\n",
        "for e in mozgasok:\n",
        "  if e.szem > lgtszem:\n",
        "    lgtszem = e.szem\n",
        "\n",
        "print(f' a legtöbb személy aki közlekedett az {lgtszem} db embr')\n",
        "szum = 0\n",
        "for e in mozgasok:\n",
        "  szum += e.szem\n",
        "print(f'átlagosan: {(szum / len(mozgasok)) :.0f} ember haladt át')\n",
        "\n",
        "db = 0\n",
        "\n",
        "for e in mozgasok:\n",
        "  if e.szem > 10:\n",
        "    db +=1 \n",
        "\n",
        "\n",
        "print(f'összesen {db}-szer ment el 10-nél több ember')\n",
        "\n",
        "db = 0\n",
        "mikor = int(input(\"ora: \"))\n",
        "mikorment = []\n",
        "for e in mozgasok:\n",
        "  if mikor == e.ora:\n",
        "      db += e.szem\n",
        "      mikorment.append(e.perc)\n",
        "\n",
        "print(f'{mikor} órakor {db} személy ment el')\n",
        "\n"
      ]
    },
    {
      "cell_type": "code",
      "execution_count": 1,
      "metadata": {
        "colab": {
          "base_uri": "https://localhost:8080/"
        },
        "id": "2_ExhQtvxK2K",
        "outputId": "e0c3acd9-ad3b-4fa1-8671-372136ee55a7"
      },
      "outputs": [
        {
          "name": "stdout",
          "output_type": "stream",
          "text": [
            "A feladvány fájl 98 adatot tartalmaz\n",
            "a leghosszabb sor 400327005015000320230108096000806000043010680000204000170602043084000260500943008 ami egy 9*9es szodoku tábla \n",
            "81 karakter\n",
            "5*5 méretű szodoku 24 db van\n",
            "a random kiválasztott feladvány \n",
            "0300050000010000040000050\n",
            "aszodoku kitöltötsége...80%\n",
            " 7. a feladvány \n",
            "\n",
            ".3...\n",
            "5....\n",
            ".1...\n",
            "..4..\n",
            "...5.\n"
          ]
        }
      ],
      "source": [
        "import math\n",
        "import random\n",
        "\n",
        "class Feladvany:\n",
        "  def __init__(self,sor):\n",
        "    self.kezdo = sor\n",
        "    self. meret = int(math.sqrt(len(sor)))\n",
        "\n",
        "  def kirajzol(self):\n",
        "        for i in range(len(self.kezdo)):\n",
        "            if self.kezdo[i] == \"0\":\n",
        "                print(\".\",end=\"\")\n",
        "            else:\n",
        "                print(self.kezdo[i],end=\"\")\n",
        "            if i % self.meret == self.meret - 1:\n",
        "                print()\n",
        "\n",
        "lista = []\n",
        "with open ('/workspaces/suli/gyakorlás/feladvanyok.txt', 'r')as f:\n",
        "  for sor in f.readlines():\n",
        "    lista.append(Feladvany(sor.strip()))\n",
        "\n",
        "print(f'A feladvány fájl {len(lista)} adatot tartalmaz')\n",
        "\n",
        "db = 0\n",
        "lghs = lista[0].kezdo\n",
        "for e in lista:\n",
        "  if len(e.kezdo) > len(lghs):\n",
        "    lghs = e.kezdo\n",
        "\n",
        "print(f'a leghosszabb sor {lghs} ami egy {math.sqrt(len(lghs)) :.0f}*{math.sqrt(len(lghs)) :.0f}es szodoku tábla \\n{len(lghs)} karakter')\n",
        "\n",
        "while True:\n",
        "  meret = int(input(\"4, feladat kérem a méretet [4..9]: \"))\n",
        "  if 4 <= meret <= 9:\n",
        "        break\n",
        "db = 0\n",
        "for e in lista:\n",
        "  if e.meret == meret:\n",
        "    db += 1\n",
        "\n",
        "print(f'{meret}*{meret} méretű szodoku {db} db van')\n",
        "\n",
        "v = 0\n",
        "\n",
        "v = 0\n",
        "while True:\n",
        "    v = random.randint(0, len(lista))\n",
        "    if lista[v].meret == meret:\n",
        "        break\n",
        "print(f'a random kiválasztott feladvány ')\n",
        "print(lista[v].kezdo)\n",
        "\n",
        "k = 0\n",
        "for b in lista[v].kezdo:\n",
        "  if b == \"0\":\n",
        "    k += 1\n",
        "print(f'aszodoku kitöltötsége...{k / (meret * meret) * 100 :.0f}%')\n",
        "print(f' 7. a feladvány \\n')\n",
        "lista[v].kirajzol()\n"
      ]
    }
  ],
  "metadata": {
    "colab": {
      "provenance": []
    },
    "kernelspec": {
      "display_name": "Python 3",
      "name": "python3"
    },
    "language_info": {
      "codemirror_mode": {
        "name": "ipython",
        "version": 3
      },
      "file_extension": ".py",
      "mimetype": "text/x-python",
      "name": "python",
      "nbconvert_exporter": "python",
      "pygments_lexer": "ipython3",
      "version": "3.10.10"
    }
  },
  "nbformat": 4,
  "nbformat_minor": 0
}
